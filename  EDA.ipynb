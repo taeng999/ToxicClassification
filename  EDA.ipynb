{
 "cells": [
  {
   "cell_type": "code",
   "execution_count": 1,
   "metadata": {
    "collapsed": true
   },
   "outputs": [],
   "source": [
    "import pandas as pd\n",
    "import matplotlib.pyplot as plt\n",
    "import numpy as np\n",
    "import seaborn as sns\n",
    "import scipy.stats as stats\n",
    "\n",
    "%matplotlib inline "
   ]
  },
  {
   "cell_type": "code",
   "execution_count": 2,
   "metadata": {
    "collapsed": true
   },
   "outputs": [],
   "source": [
    "data = pd.read_csv('./train 3.csv')"
   ]
  },
  {
   "cell_type": "code",
   "execution_count": 3,
   "metadata": {},
   "outputs": [
    {
     "data": {
      "text/plain": [
       "(159571, 8)"
      ]
     },
     "execution_count": 3,
     "metadata": {},
     "output_type": "execute_result"
    }
   ],
   "source": [
    "data.shape"
   ]
  },
  {
   "cell_type": "code",
   "execution_count": 4,
   "metadata": {
    "scrolled": true
   },
   "outputs": [
    {
     "data": {
      "text/html": [
       "<div>\n",
       "<style>\n",
       "    .dataframe thead tr:only-child th {\n",
       "        text-align: right;\n",
       "    }\n",
       "\n",
       "    .dataframe thead th {\n",
       "        text-align: left;\n",
       "    }\n",
       "\n",
       "    .dataframe tbody tr th {\n",
       "        vertical-align: top;\n",
       "    }\n",
       "</style>\n",
       "<table border=\"1\" class=\"dataframe\">\n",
       "  <thead>\n",
       "    <tr style=\"text-align: right;\">\n",
       "      <th></th>\n",
       "      <th>id</th>\n",
       "      <th>comment_text</th>\n",
       "      <th>toxic</th>\n",
       "      <th>severe_toxic</th>\n",
       "      <th>obscene</th>\n",
       "      <th>threat</th>\n",
       "      <th>insult</th>\n",
       "      <th>identity_hate</th>\n",
       "    </tr>\n",
       "  </thead>\n",
       "  <tbody>\n",
       "    <tr>\n",
       "      <th>0</th>\n",
       "      <td>0000997932d777bf</td>\n",
       "      <td>Explanation\\nWhy the edits made under my usern...</td>\n",
       "      <td>0</td>\n",
       "      <td>0</td>\n",
       "      <td>0</td>\n",
       "      <td>0</td>\n",
       "      <td>0</td>\n",
       "      <td>0</td>\n",
       "    </tr>\n",
       "    <tr>\n",
       "      <th>1</th>\n",
       "      <td>000103f0d9cfb60f</td>\n",
       "      <td>D'aww! He matches this background colour I'm s...</td>\n",
       "      <td>0</td>\n",
       "      <td>0</td>\n",
       "      <td>0</td>\n",
       "      <td>0</td>\n",
       "      <td>0</td>\n",
       "      <td>0</td>\n",
       "    </tr>\n",
       "    <tr>\n",
       "      <th>2</th>\n",
       "      <td>000113f07ec002fd</td>\n",
       "      <td>Hey man, I'm really not trying to edit war. It...</td>\n",
       "      <td>0</td>\n",
       "      <td>0</td>\n",
       "      <td>0</td>\n",
       "      <td>0</td>\n",
       "      <td>0</td>\n",
       "      <td>0</td>\n",
       "    </tr>\n",
       "    <tr>\n",
       "      <th>3</th>\n",
       "      <td>0001b41b1c6bb37e</td>\n",
       "      <td>\"\\nMore\\nI can't make any real suggestions on ...</td>\n",
       "      <td>0</td>\n",
       "      <td>0</td>\n",
       "      <td>0</td>\n",
       "      <td>0</td>\n",
       "      <td>0</td>\n",
       "      <td>0</td>\n",
       "    </tr>\n",
       "    <tr>\n",
       "      <th>4</th>\n",
       "      <td>0001d958c54c6e35</td>\n",
       "      <td>You, sir, are my hero. Any chance you remember...</td>\n",
       "      <td>0</td>\n",
       "      <td>0</td>\n",
       "      <td>0</td>\n",
       "      <td>0</td>\n",
       "      <td>0</td>\n",
       "      <td>0</td>\n",
       "    </tr>\n",
       "  </tbody>\n",
       "</table>\n",
       "</div>"
      ],
      "text/plain": [
       "                 id                                       comment_text  toxic  \\\n",
       "0  0000997932d777bf  Explanation\\nWhy the edits made under my usern...      0   \n",
       "1  000103f0d9cfb60f  D'aww! He matches this background colour I'm s...      0   \n",
       "2  000113f07ec002fd  Hey man, I'm really not trying to edit war. It...      0   \n",
       "3  0001b41b1c6bb37e  \"\\nMore\\nI can't make any real suggestions on ...      0   \n",
       "4  0001d958c54c6e35  You, sir, are my hero. Any chance you remember...      0   \n",
       "\n",
       "   severe_toxic  obscene  threat  insult  identity_hate  \n",
       "0             0        0       0       0              0  \n",
       "1             0        0       0       0              0  \n",
       "2             0        0       0       0              0  \n",
       "3             0        0       0       0              0  \n",
       "4             0        0       0       0              0  "
      ]
     },
     "execution_count": 4,
     "metadata": {},
     "output_type": "execute_result"
    }
   ],
   "source": [
    "data.head()"
   ]
  },
  {
   "cell_type": "code",
   "execution_count": 5,
   "metadata": {
    "collapsed": true
   },
   "outputs": [],
   "source": [
    "non_sense = ['\\n', '|', '\\t', '\\s']"
   ]
  },
  {
   "cell_type": "code",
   "execution_count": 6,
   "metadata": {
    "collapsed": true
   },
   "outputs": [],
   "source": [
    "def change_non_sense(cell):\n",
    "    for a in non_sense:\n",
    "        if a in cell:\n",
    "            return cell.replace(a,'')\n",
    "        else:\n",
    "            return cell"
   ]
  },
  {
   "cell_type": "code",
   "execution_count": 7,
   "metadata": {
    "collapsed": true
   },
   "outputs": [],
   "source": [
    "data['comment_text'] = data['comment_text'].apply(change_non_sense)"
   ]
  },
  {
   "cell_type": "code",
   "execution_count": 8,
   "metadata": {},
   "outputs": [
    {
     "data": {
      "text/plain": [
       "Index(['id', 'comment_text', 'toxic', 'severe_toxic', 'obscene', 'threat',\n",
       "       'insult', 'identity_hate'],\n",
       "      dtype='object')"
      ]
     },
     "execution_count": 8,
     "metadata": {},
     "output_type": "execute_result"
    }
   ],
   "source": [
    "data.columns"
   ]
  },
  {
   "cell_type": "code",
   "execution_count": 9,
   "metadata": {
    "collapsed": true
   },
   "outputs": [],
   "source": [
    "def change_to_bool(cell):\n",
    "    return bool(cell)"
   ]
  },
  {
   "cell_type": "code",
   "execution_count": 10,
   "metadata": {
    "collapsed": true
   },
   "outputs": [],
   "source": [
    "data['toxic'] = data['toxic'].apply(change_to_bool)\n",
    "data['severe_toxic'] = data['severe_toxic'].apply(change_to_bool)\n",
    "data['obscene'] = data['obscene'].apply(change_to_bool)\n",
    "data['threat'] = data['threat'].apply(change_to_bool)\n",
    "data['insult'] = data['insult'].apply(change_to_bool)\n",
    "data['identity_hate'] = data['identity_hate'].apply(change_to_bool)\n"
   ]
  },
  {
   "cell_type": "markdown",
   "metadata": {},
   "source": [
    "Lets see the worst... which is EVERYTHING..!"
   ]
  },
  {
   "cell_type": "code",
   "execution_count": 11,
   "metadata": {},
   "outputs": [],
   "source": [
    "all_hate = data[data.toxic & data.severe_toxic & data.obscene & data.threat & data.insult & data.identity_hate]"
   ]
  },
  {
   "cell_type": "code",
   "execution_count": 12,
   "metadata": {},
   "outputs": [
    {
     "data": {
      "text/plain": [
       "31"
      ]
     },
     "execution_count": 12,
     "metadata": {},
     "output_type": "execute_result"
    }
   ],
   "source": [
    "len(all_hate)"
   ]
  },
  {
   "cell_type": "code",
   "execution_count": 13,
   "metadata": {},
   "outputs": [
    {
     "data": {
      "text/plain": [
       "(391.55248134059445, 587.0903345602147, 5000)"
      ]
     },
     "execution_count": 13,
     "metadata": {},
     "output_type": "execute_result"
    }
   ],
   "source": [
    "lens = data.comment_text.str.len()\n",
    "lens.mean(), lens.std(), lens.max()"
   ]
  },
  {
   "cell_type": "code",
   "execution_count": 14,
   "metadata": {},
   "outputs": [
    {
     "data": {
      "text/plain": [
       "<matplotlib.axes._subplots.AxesSubplot at 0x1110a1940>"
      ]
     },
     "execution_count": 14,
     "metadata": {},
     "output_type": "execute_result"
    },
    {
     "data": {
      "image/png": "[encoded data removed]",
      "text/plain": [
       "<matplotlib.figure.Figure at 0x1169e3e80>"
      ]
     },
     "metadata": {},
     "output_type": "display_data"
    }
   ],
   "source": [
    "sns.distplot(lens)"
   ]
  },
  {
   "cell_type": "code",
   "execution_count": 15,
   "metadata": {},
   "outputs": [],
   "source": [
    "label_cols = ['toxic', 'severe_toxic', 'obscene', 'threat', 'insult', 'identity_hate']\n",
    "data['None'] = 1-data[label_cols].max(axis=1)"
   ]
  },
  {
   "cell_type": "code",
   "execution_count": 18,
   "metadata": {},
   "outputs": [
    {
     "data": {
      "text/plain": [
       "1    143346\n",
       "0     16225\n",
       "Name: None, dtype: int64"
      ]
     },
     "execution_count": 18,
     "metadata": {},
     "output_type": "execute_result"
    }
   ],
   "source": [
    "data[\"None\"].value_counts()"
   ]
  },
  {
   "cell_type": "code",
   "execution_count": 20,
   "metadata": {},
   "outputs": [
    {
     "data": {
      "text/plain": [
       "1    0.898321\n",
       "0    0.101679\n",
       "Name: None, dtype: float64"
      ]
     },
     "execution_count": 20,
     "metadata": {},
     "output_type": "execute_result"
    }
   ],
   "source": [
    "data[\"None\"].value_counts(True)"
   ]
  },
  {
   "cell_type": "markdown",
   "metadata": {},
   "source": [
    "Baseline accuracy is 0.898321. "
   ]
  },
  {
   "cell_type": "code",
   "execution_count": 21,
   "metadata": {},
   "outputs": [
    {
     "data": {
      "text/plain": [
       "id               0\n",
       "comment_text     0\n",
       "toxic            0\n",
       "severe_toxic     0\n",
       "obscene          0\n",
       "threat           0\n",
       "insult           0\n",
       "identity_hate    0\n",
       "None             0\n",
       "dtype: int64"
      ]
     },
     "execution_count": 21,
     "metadata": {},
     "output_type": "execute_result"
    }
   ],
   "source": [
    "data.isnull().sum()"
   ]
  },
  {
   "cell_type": "code",
   "execution_count": 27,
   "metadata": {
    "scrolled": true
   },
   "outputs": [
    {
     "data": {
      "text/html": [
       "<div>\n",
       "<style>\n",
       "    .dataframe thead tr:only-child th {\n",
       "        text-align: right;\n",
       "    }\n",
       "\n",
       "    .dataframe thead th {\n",
       "        text-align: left;\n",
       "    }\n",
       "\n",
       "    .dataframe tbody tr th {\n",
       "        vertical-align: top;\n",
       "    }\n",
       "</style>\n",
       "<table border=\"1\" class=\"dataframe\">\n",
       "  <thead>\n",
       "    <tr style=\"text-align: right;\">\n",
       "      <th></th>\n",
       "      <th>comment_text</th>\n",
       "    </tr>\n",
       "  </thead>\n",
       "  <tbody>\n",
       "    <tr>\n",
       "      <th>6</th>\n",
       "      <td>COCKSUCKER BEFORE YOU PISS AROUND ON MY WORK</td>\n",
       "    </tr>\n",
       "    <tr>\n",
       "      <th>12</th>\n",
       "      <td>Hey... what is it..@ | talk .What is it... an ...</td>\n",
       "    </tr>\n",
       "    <tr>\n",
       "      <th>16</th>\n",
       "      <td>Bye! Don't look, come or think of comming back...</td>\n",
       "    </tr>\n",
       "    <tr>\n",
       "      <th>42</th>\n",
       "      <td>You are gay or antisemmitian? Archangel WHite ...</td>\n",
       "    </tr>\n",
       "    <tr>\n",
       "      <th>43</th>\n",
       "      <td>FUCK YOUR FILTHY MOTHER IN THE ASS, DRY!</td>\n",
       "    </tr>\n",
       "    <tr>\n",
       "      <th>44</th>\n",
       "      <td>I'm Sorry I'm sorry I screwed around with some...</td>\n",
       "    </tr>\n",
       "    <tr>\n",
       "      <th>51</th>\n",
       "      <td>GET FUCKED UP. GET FUCKEEED UP.  GOT A DRINK T...</td>\n",
       "    </tr>\n",
       "    <tr>\n",
       "      <th>55</th>\n",
       "      <td>Stupid peace of shit stop deleting my stuff as...</td>\n",
       "    </tr>\n",
       "    <tr>\n",
       "      <th>56</th>\n",
       "      <td>=Tony Sidaway is obviously a fistfuckee. He lo...</td>\n",
       "    </tr>\n",
       "    <tr>\n",
       "      <th>58</th>\n",
       "      <td>My Band Page's deletion. You thought I was gon...</td>\n",
       "    </tr>\n",
       "    <tr>\n",
       "      <th>59</th>\n",
       "      <td>Why can't you believe how fat Artie is? Did yo...</td>\n",
       "    </tr>\n",
       "    <tr>\n",
       "      <th>65</th>\n",
       "      <td>All of my edits are good.  Cunts like you who ...</td>\n",
       "    </tr>\n",
       "    <tr>\n",
       "      <th>79</th>\n",
       "      <td>Hi! I am back again!Last warning!Stop undoing ...</td>\n",
       "    </tr>\n",
       "    <tr>\n",
       "      <th>86</th>\n",
       "      <td>Would you both shut up, you don't run wikipedi...</td>\n",
       "    </tr>\n",
       "    <tr>\n",
       "      <th>105</th>\n",
       "      <td>A pair of jew-hating weiner nazi schmucks.</td>\n",
       "    </tr>\n",
       "    <tr>\n",
       "      <th>151</th>\n",
       "      <td>\"SORRY PUCK BUT NO ONE EVER SAID DICK WAS NUMB...</td>\n",
       "    </tr>\n",
       "    <tr>\n",
       "      <th>159</th>\n",
       "      <td>\"UNBLOCK ME OR I'LL GET MY LAWYERS ON TO YOU F...</td>\n",
       "    </tr>\n",
       "    <tr>\n",
       "      <th>168</th>\n",
       "      <td>You should be fired, you're a moronic wimp who...</td>\n",
       "    </tr>\n",
       "    <tr>\n",
       "      <th>176</th>\n",
       "      <td>I think that your a Fagget get a oife and burn...</td>\n",
       "    </tr>\n",
       "    <tr>\n",
       "      <th>179</th>\n",
       "      <td>REPLY ABOVE:That was me, loser. The UN defines...</td>\n",
       "    </tr>\n",
       "    <tr>\n",
       "      <th>181</th>\n",
       "      <td>you are a stupid fuck and your mother's cunt s...</td>\n",
       "    </tr>\n",
       "    <tr>\n",
       "      <th>201</th>\n",
       "      <td>Your blatant POV pushing Neither of you guys h...</td>\n",
       "    </tr>\n",
       "    <tr>\n",
       "      <th>206</th>\n",
       "      <td>Give me a permanat block raseac....!!! remembe...</td>\n",
       "    </tr>\n",
       "    <tr>\n",
       "      <th>211</th>\n",
       "      <td>Fuck you, block me, you faggot pussy!</td>\n",
       "    </tr>\n",
       "    <tr>\n",
       "      <th>218</th>\n",
       "      <td>Kill all niggers. I have hard, that others hav...</td>\n",
       "    </tr>\n",
       "    <tr>\n",
       "      <th>231</th>\n",
       "      <td>Burn Deck If that'd guy's burn deck is like wh...</td>\n",
       "    </tr>\n",
       "    <tr>\n",
       "      <th>238</th>\n",
       "      <td>u r a tw@ fuck off u gay boy.U r smelly.Fuck u...</td>\n",
       "    </tr>\n",
       "    <tr>\n",
       "      <th>268</th>\n",
       "      <td>Atheism is full of bias shit</td>\n",
       "    </tr>\n",
       "    <tr>\n",
       "      <th>278</th>\n",
       "      <td>Hey why you are spreading misconceptions and t...</td>\n",
       "    </tr>\n",
       "    <tr>\n",
       "      <th>286</th>\n",
       "      <td>\"And you are? Let me know when you've crawled ...</td>\n",
       "    </tr>\n",
       "    <tr>\n",
       "      <th>...</th>\n",
       "      <td>...</td>\n",
       "    </tr>\n",
       "    <tr>\n",
       "      <th>159268</th>\n",
       "      <td>Hi Bading Putang ina mong bakla ka. Fuck you k...</td>\n",
       "    </tr>\n",
       "    <tr>\n",
       "      <th>159274</th>\n",
       "      <td>\"Study some linguistics before you say somethi...</td>\n",
       "    </tr>\n",
       "    <tr>\n",
       "      <th>159281</th>\n",
       "      <td>LoL!! you're GAY!! you will never know how goo...</td>\n",
       "    </tr>\n",
       "    <tr>\n",
       "      <th>159290</th>\n",
       "      <td>Hey alabamoy boy why dont you stick your head ...</td>\n",
       "    </tr>\n",
       "    <tr>\n",
       "      <th>159298</th>\n",
       "      <td>, are you dumber than you look? asshole.</td>\n",
       "    </tr>\n",
       "    <tr>\n",
       "      <th>159301</th>\n",
       "      <td>The first of your links is something to agree ...</td>\n",
       "    </tr>\n",
       "    <tr>\n",
       "      <th>159312</th>\n",
       "      <td>Walter Mercado Antonio, quite frankly, you're ...</td>\n",
       "    </tr>\n",
       "    <tr>\n",
       "      <th>159315</th>\n",
       "      <td>http://www.nysun.com/article/23698 - public in...</td>\n",
       "    </tr>\n",
       "    <tr>\n",
       "      <th>159334</th>\n",
       "      <td>Horse's ass Seriously, dude, what's that horse...</td>\n",
       "    </tr>\n",
       "    <tr>\n",
       "      <th>159336</th>\n",
       "      <td>Oh, fuck off. The pansy Jew would just whine a...</td>\n",
       "    </tr>\n",
       "    <tr>\n",
       "      <th>159342</th>\n",
       "      <td>Fuck off turd. Don't ever ban me again you cun...</td>\n",
       "    </tr>\n",
       "    <tr>\n",
       "      <th>159358</th>\n",
       "      <td>Goethean and meI would like you to know I have...</td>\n",
       "    </tr>\n",
       "    <tr>\n",
       "      <th>159368</th>\n",
       "      <td>\" Palin/Satan 2012 Wow, what a surprise! The o...</td>\n",
       "    </tr>\n",
       "    <tr>\n",
       "      <th>159378</th>\n",
       "      <td>GO AHEAD AND FUCKING BAN ME ~ LIKE THAT WILL H...</td>\n",
       "    </tr>\n",
       "    <tr>\n",
       "      <th>159382</th>\n",
       "      <td>shut up you goddamn assclown.</td>\n",
       "    </tr>\n",
       "    <tr>\n",
       "      <th>159386</th>\n",
       "      <td>Stop telling lies and trying to promote your p...</td>\n",
       "    </tr>\n",
       "    <tr>\n",
       "      <th>159394</th>\n",
       "      <td>your boring and retarded two</td>\n",
       "    </tr>\n",
       "    <tr>\n",
       "      <th>159398</th>\n",
       "      <td>Why did that idiot revert the reversion I made...</td>\n",
       "    </tr>\n",
       "    <tr>\n",
       "      <th>159400</th>\n",
       "      <td>Shalom Semite, get the fuck out of here. I wil...</td>\n",
       "    </tr>\n",
       "    <tr>\n",
       "      <th>159411</th>\n",
       "      <td>Fat piece of shit you obese piece of shit. I t...</td>\n",
       "    </tr>\n",
       "    <tr>\n",
       "      <th>159423</th>\n",
       "      <td>PS:  you're all middle-aged losers at home in ...</td>\n",
       "    </tr>\n",
       "    <tr>\n",
       "      <th>159448</th>\n",
       "      <td>Yeah i no it sucks.</td>\n",
       "    </tr>\n",
       "    <tr>\n",
       "      <th>159449</th>\n",
       "      <td>I think he is a gay fag!!!</td>\n",
       "    </tr>\n",
       "    <tr>\n",
       "      <th>159478</th>\n",
       "      <td>\"Thank you. Given the misuse of tools here and...</td>\n",
       "    </tr>\n",
       "    <tr>\n",
       "      <th>159493</th>\n",
       "      <td>FUCKING FAGGOT LOLWAT.</td>\n",
       "    </tr>\n",
       "    <tr>\n",
       "      <th>159494</th>\n",
       "      <td>\" our previous conversation you fucking shit e...</td>\n",
       "    </tr>\n",
       "    <tr>\n",
       "      <th>159514</th>\n",
       "      <td>YOU ARE A MISCHIEVIOUS PUBIC HAIR</td>\n",
       "    </tr>\n",
       "    <tr>\n",
       "      <th>159541</th>\n",
       "      <td>Your absurd edits Your absurd edits on great w...</td>\n",
       "    </tr>\n",
       "    <tr>\n",
       "      <th>159546</th>\n",
       "      <td>\"Hey listen don't you ever!!!! Delete my edits...</td>\n",
       "    </tr>\n",
       "    <tr>\n",
       "      <th>159554</th>\n",
       "      <td>and i'm going to keep posting the stuff u dele...</td>\n",
       "    </tr>\n",
       "  </tbody>\n",
       "</table>\n",
       "<p>16225 rows × 1 columns</p>\n",
       "</div>"
      ],
      "text/plain": [
       "                                             comment_text\n",
       "6            COCKSUCKER BEFORE YOU PISS AROUND ON MY WORK\n",
       "12      Hey... what is it..@ | talk .What is it... an ...\n",
       "16      Bye! Don't look, come or think of comming back...\n",
       "42      You are gay or antisemmitian? Archangel WHite ...\n",
       "43               FUCK YOUR FILTHY MOTHER IN THE ASS, DRY!\n",
       "44      I'm Sorry I'm sorry I screwed around with some...\n",
       "51      GET FUCKED UP. GET FUCKEEED UP.  GOT A DRINK T...\n",
       "55      Stupid peace of shit stop deleting my stuff as...\n",
       "56      =Tony Sidaway is obviously a fistfuckee. He lo...\n",
       "58      My Band Page's deletion. You thought I was gon...\n",
       "59      Why can't you believe how fat Artie is? Did yo...\n",
       "65      All of my edits are good.  Cunts like you who ...\n",
       "79      Hi! I am back again!Last warning!Stop undoing ...\n",
       "86      Would you both shut up, you don't run wikipedi...\n",
       "105            A pair of jew-hating weiner nazi schmucks.\n",
       "151     \"SORRY PUCK BUT NO ONE EVER SAID DICK WAS NUMB...\n",
       "159     \"UNBLOCK ME OR I'LL GET MY LAWYERS ON TO YOU F...\n",
       "168     You should be fired, you're a moronic wimp who...\n",
       "176     I think that your a Fagget get a oife and burn...\n",
       "179     REPLY ABOVE:That was me, loser. The UN defines...\n",
       "181     you are a stupid fuck and your mother's cunt s...\n",
       "201     Your blatant POV pushing Neither of you guys h...\n",
       "206     Give me a permanat block raseac....!!! remembe...\n",
       "211                 Fuck you, block me, you faggot pussy!\n",
       "218     Kill all niggers. I have hard, that others hav...\n",
       "231     Burn Deck If that'd guy's burn deck is like wh...\n",
       "238     u r a tw@ fuck off u gay boy.U r smelly.Fuck u...\n",
       "268                          Atheism is full of bias shit\n",
       "278     Hey why you are spreading misconceptions and t...\n",
       "286     \"And you are? Let me know when you've crawled ...\n",
       "...                                                   ...\n",
       "159268  Hi Bading Putang ina mong bakla ka. Fuck you k...\n",
       "159274  \"Study some linguistics before you say somethi...\n",
       "159281  LoL!! you're GAY!! you will never know how goo...\n",
       "159290  Hey alabamoy boy why dont you stick your head ...\n",
       "159298           , are you dumber than you look? asshole.\n",
       "159301  The first of your links is something to agree ...\n",
       "159312  Walter Mercado Antonio, quite frankly, you're ...\n",
       "159315  http://www.nysun.com/article/23698 - public in...\n",
       "159334  Horse's ass Seriously, dude, what's that horse...\n",
       "159336  Oh, fuck off. The pansy Jew would just whine a...\n",
       "159342  Fuck off turd. Don't ever ban me again you cun...\n",
       "159358  Goethean and meI would like you to know I have...\n",
       "159368  \" Palin/Satan 2012 Wow, what a surprise! The o...\n",
       "159378  GO AHEAD AND FUCKING BAN ME ~ LIKE THAT WILL H...\n",
       "159382                      shut up you goddamn assclown.\n",
       "159386  Stop telling lies and trying to promote your p...\n",
       "159394                       your boring and retarded two\n",
       "159398  Why did that idiot revert the reversion I made...\n",
       "159400  Shalom Semite, get the fuck out of here. I wil...\n",
       "159411  Fat piece of shit you obese piece of shit. I t...\n",
       "159423  PS:  you're all middle-aged losers at home in ...\n",
       "159448                                Yeah i no it sucks.\n",
       "159449                         I think he is a gay fag!!!\n",
       "159478  \"Thank you. Given the misuse of tools here and...\n",
       "159493                             FUCKING FAGGOT LOLWAT.\n",
       "159494  \" our previous conversation you fucking shit e...\n",
       "159514                  YOU ARE A MISCHIEVIOUS PUBIC HAIR\n",
       "159541  Your absurd edits Your absurd edits on great w...\n",
       "159546  \"Hey listen don't you ever!!!! Delete my edits...\n",
       "159554  and i'm going to keep posting the stuff u dele...\n",
       "\n",
       "[16225 rows x 1 columns]"
      ]
     },
     "execution_count": 27,
     "metadata": {},
     "output_type": "execute_result"
    }
   ],
   "source": [
    "data[data['None']==0][['comment_text']]"
   ]
  },
  {
   "cell_type": "markdown",
   "metadata": {},
   "source": [
    "# Modeling"
   ]
  },
  {
   "cell_type": "code",
   "execution_count": 38,
   "metadata": {
    "collapsed": true
   },
   "outputs": [],
   "source": [
    "from sklearn.feature_extraction.text import CountVectorizer,TfidfVectorizer\n",
    "from sklearn.preprocessing import StandardScaler\n",
    "from sklearn.model_selection import train_test_split\n",
    "from sklearn.linear_model import LogisticRegression\n",
    "from sklearn.cross_validation import cross_val_score, cross_val_predict\n",
    "from sklearn.pipeline import Pipeline"
   ]
  },
  {
   "cell_type": "code",
   "execution_count": 28,
   "metadata": {
    "collapsed": true
   },
   "outputs": [],
   "source": [
    "import re, string\n",
    "re_tok = re.compile(f'([{string.punctuation}“”¨«»®´·º½¾¿¡§£₤‘’])')\n",
    "def tokenize(s): return re_tok.sub(r' \\1 ', s).split()"
   ]
  },
  {
   "cell_type": "code",
   "execution_count": 32,
   "metadata": {},
   "outputs": [
    {
     "name": "stdout",
     "output_type": "stream",
     "text": [
      "<class 'pandas.core.frame.DataFrame'>\n",
      "RangeIndex: 159571 entries, 0 to 159570\n",
      "Data columns (total 9 columns):\n",
      "id               159571 non-null object\n",
      "comment_text     159571 non-null object\n",
      "toxic            159571 non-null bool\n",
      "severe_toxic     159571 non-null bool\n",
      "obscene          159571 non-null bool\n",
      "threat           159571 non-null bool\n",
      "insult           159571 non-null bool\n",
      "identity_hate    159571 non-null bool\n",
      "None             159571 non-null int64\n",
      "dtypes: bool(6), int64(1), object(2)\n",
      "memory usage: 4.6+ MB\n"
     ]
    }
   ],
   "source": [
    "data.info()"
   ]
  },
  {
   "cell_type": "code",
   "execution_count": 68,
   "metadata": {
    "collapsed": true
   },
   "outputs": [],
   "source": [
    "X_train, X_holdout, y_train, y_holdout = train_test_split(data['comment_text'], data[label_cols])"
   ]
  },
  {
   "cell_type": "code",
   "execution_count": null,
   "metadata": {
    "collapsed": true
   },
   "outputs": [],
   "source": []
  },
  {
   "cell_type": "code",
   "execution_count": 69,
   "metadata": {
    "collapsed": true
   },
   "outputs": [],
   "source": [
    "n = data.shape[0]\n",
    "vec = TfidfVectorizer(ngram_range=(1,2), tokenizer=tokenize,\n",
    "               min_df=3, max_df=0.9, strip_accents='unicode', use_idf=1,\n",
    "               smooth_idf=1, sublinear_tf=1 )\n",
    "X_train_transformed = vec.fit_transform(data['comment_text'])\n",
    "X_holdout_transformed = vec.transform(data['comment_text'])"
   ]
  },
  {
   "cell_type": "code",
   "execution_count": 79,
   "metadata": {
    "collapsed": true
   },
   "outputs": [],
   "source": [
    "n = data.shape[0]"
   ]
  },
  {
   "cell_type": "code",
   "execution_count": 80,
   "metadata": {
    "collapsed": true
   },
   "outputs": [],
   "source": [
    "def pr(y_i, y):\n",
    "    p = X_train_transformed[y==y_i].sum(0)\n",
    "    return (p+1) / ((y==y_i).sum()+1)"
   ]
  },
  {
   "cell_type": "code",
   "execution_count": 81,
   "metadata": {
    "collapsed": true
   },
   "outputs": [],
   "source": [
    "def get_mdl(y):\n",
    "    y = y.values\n",
    "    r = np.log(pr(1,y) / pr(0,y))\n",
    "    m = LogisticRegression(C=4, dual=True)\n",
    "    x_nb = X_train_transformed.multiply(r)\n",
    "    return m.fit(x_nb, y), r"
   ]
  },
  {
   "cell_type": "code",
   "execution_count": null,
   "metadata": {},
   "outputs": [
    {
     "name": "stdout",
     "output_type": "stream",
     "text": [
      "fit toxic\n"
     ]
    }
   ],
   "source": [
    "preds = np.zeros((X_holdout_transformed.shape[0], len(label_cols)))\n",
    "\n",
    "for i, j in enumerate(label_cols):\n",
    "    print('fit', j)\n",
    "    m,r = get_mdl(data[j])\n",
    "    preds[:,i] = m.predict_proba(X_holdout_transformed.multiply(r))[:,1]"
   ]
  },
  {
   "cell_type": "code",
   "execution_count": 66,
   "metadata": {},
   "outputs": [
    {
     "data": {
      "text/plain": [
       "array([[  3.81003286e-03,   5.13632568e-04,   1.42752942e-03,\n",
       "          1.09641345e-04,   1.60445040e-03,   3.38726699e-04],\n",
       "       [  7.04595293e-03,   4.01739356e-04,   9.73812622e-04,\n",
       "          1.54096989e-04,   2.19409765e-03,   1.94412613e-04],\n",
       "       [  1.49110674e-02,   3.31573976e-04,   2.65267931e-03,\n",
       "          1.09173754e-04,   5.00095941e-03,   7.46038592e-04],\n",
       "       ..., \n",
       "       [  7.88063262e-03,   2.43041499e-04,   1.83986238e-03,\n",
       "          9.41119688e-05,   1.90820723e-03,   2.44420526e-04],\n",
       "       [  3.44658365e-03,   2.02068184e-04,   1.73763605e-03,\n",
       "          9.62587387e-05,   1.43110884e-03,   2.83789237e-04],\n",
       "       [  2.81705782e-02,   3.42997975e-04,   8.65835972e-03,\n",
       "          1.46056031e-04,   8.10196411e-03,   3.08335938e-04]])"
      ]
     },
     "execution_count": 66,
     "metadata": {},
     "output_type": "execute_result"
    }
   ],
   "source": [
    "preds"
   ]
  },
  {
   "cell_type": "code",
   "execution_count": null,
   "metadata": {
    "collapsed": true
   },
   "outputs": [],
   "source": []
  },
  {
   "cell_type": "code",
   "execution_count": 67,
   "metadata": {},
   "outputs": [
    {
     "data": {
      "text/plain": [
       "<159571x424637 sparse matrix of type '<class 'numpy.float64'>'\n",
       "\twith 17705772 stored elements in Compressed Sparse Row format>"
      ]
     },
     "execution_count": 67,
     "metadata": {},
     "output_type": "execute_result"
    }
   ],
   "source": []
  },
  {
   "cell_type": "code",
   "execution_count": null,
   "metadata": {
    "collapsed": true
   },
   "outputs": [],
   "source": [
    "submid = pd.DataFrame({'id': subm[\"id\"]})\n",
    "submission = pd.concat([submid, pd.DataFrame(preds, columns = label_cols)], axis=1)\n",
    "submission.to_csv('submission.csv', index=False)"
   ]
  }
 ],
 "metadata": {
  "kernelspec": {
   "display_name": "Python 3",
   "language": "python",
   "name": "python3"
  },
  "language_info": {
   "codemirror_mode": {
    "name": "ipython",
    "version": 3
   },
   "file_extension": ".py",
   "mimetype": "text/x-python",
   "name": "python",
   "nbconvert_exporter": "python",
   "pygments_lexer": "ipython3",
   "version": "3.6.3"
  }
 },
 "nbformat": 4,
 "nbformat_minor": 2
}
